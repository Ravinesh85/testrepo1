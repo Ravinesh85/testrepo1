{
  "cells": [
    {
      "cell_type": "markdown",
      "metadata": {
        "id": "Tce3stUlHN0L"
      },
      "source": [
        "##### Copyright 2024 Google LLC."
      ]
    },
    {
      "cell_type": "code",
      "execution_count": null,
      "metadata": {
        "cellView": "form",
        "id": "tuOe1ymfHZPu"
      },
      "outputs": [],
      "source": [
        "#@title Licensed under the Apache License, Version 2.0 (the \"License\");\n",
        "# you may not use this file except in compliance with the License.\n",
        "# You may obtain a copy of the License at\n",
        "#\n",
        "# https://www.apache.org/licenses/LICENSE-2.0\n",
        "#\n",
        "# Unless required by applicable law or agreed to in writing, software\n",
        "# distributed under the License is distributed on an \"AS IS\" BASIS,\n",
        "# WITHOUT WARRANTIES OR CONDITIONS OF ANY KIND, either express or implied.\n",
        "# See the License for the specific language governing permissions and\n",
        "# limitations under the License."
      ]
    },
    {
      "cell_type": "markdown",
      "metadata": {
        "id": "-QhPWE1lwZHH"
      },
      "source": [
        "# Gemini API Python quickstart"
      ]
    },
    {
      "cell_type": "markdown",
      "metadata": {
        "id": "fa7c47ae6451"
      },
      "source": [
        "<table class=\"tfo-notebook-buttons\" align=\"left\">\n",
        "  <td>\n",
        "    <a target=\"_blank\" href=\"https://ai.google.dev/tutorials/quickstart_colab\"><img src=\"https://ai.google.dev/static/site-assets/images/docs/notebook-site-button.png\" height=\"32\" width=\"32\" />View on Google AI</a>\n",
        "  </td>\n",
        "  <td>\n",
        "    <a target=\"_blank\" href=\"https://colab.research.google.com/github/google/generative-ai-docs/blob/main/site/en/tutorials/quickstart_colab.ipynb\"><img src=\"https://www.tensorflow.org/images/colab_logo_32px.png\" />Run in Google Colab</a>\n",
        "  </td>\n",
        "  <td>\n",
        "    <a target=\"_blank\" href=\"https://github.com/google/generative-ai-docs/blob/main/site/en/tutorials/quickstart_colab.ipynb\"><img src=\"https://www.tensorflow.org/images/GitHub-Mark-32px.png\" />View source on GitHub</a>\n",
        "  </td>\n",
        "</table>"
      ]
    },
    {
      "cell_type": "markdown",
      "metadata": {
        "id": "db29b8d4247e"
      },
      "source": [
        "This tutorial shows you how to get started with the Gemini API using the Python SDK."
      ]
    },
    {
      "cell_type": "markdown",
      "metadata": {
        "id": "NNNg43Ymw54e"
      },
      "source": [
        "## Prerequisites\n",
        "\n",
        "You can run this tutorial in Google Colab, which doesn't require additional environment configuration.\n",
        "\n",
        "Alternatively, to complete this quickstart locally, see the Python guidance in [Get started with the Gemini API](https://ai.google.dev/tutorials/quickstart)."
      ]
    },
    {
      "cell_type": "markdown",
      "metadata": {
        "id": "kHkHARdb1ZID"
      },
      "source": [
        "## Install the SDK\n",
        "\n",
        "The Python SDK for the Gemini API is contained in the [`google-generativeai`](https://pypi.org/project/google-generativeai/) package. Install the dependency using pip:"
      ]
    },
    {
      "cell_type": "code",
      "execution_count": 18,
      "metadata": {
        "id": "J6Pd9SFJ1yVi"
      },
      "outputs": [],
      "source": [
        "!pip install -q -U google-generativeai"
      ]
    },
    {
      "cell_type": "markdown",
      "metadata": {
        "id": "EeMCtmx9ykyx"
      },
      "source": [
        "## Set up your API key\n",
        "\n",
        "To use the Gemini API, you'll need an API key. If you don't already have one, create a key in Google AI Studio.\n",
        "\n",
        "<a class=\"button\" href=\"https://aistudio.google.com/app/apikey\" target=\"_blank\" rel=\"noopener noreferrer\">Get an API key</a>\n",
        "\n",
        "In Colab, add the key to the secrets manager under the \"🔑\" in the left panel. Give it the name `GOOGLE_API_KEY`. Then pass the key to the SDK:"
      ]
    },
    {
      "cell_type": "code",
      "execution_count": 25,
      "metadata": {
        "id": "HTiaTu6O1LRC"
      },
      "outputs": [],
      "source": [
        "# Import the Python SDK\n",
        "import google.generativeai as genai\n",
        "# Used to securely store your API key\n",
        "from google.colab import userdata\n",
        "\n",
        "GOOGLE_API_KEY=userdata.get('GOOGLE_API_KEY')\n",
        "genai.configure(api_key=GOOGLE_API_KEY)"
      ]
    },
    {
      "cell_type": "markdown",
      "metadata": {
        "id": "CZPYk29o2No0"
      },
      "source": [
        "## Initialize the Generative Model\n",
        "\n",
        "Before you can make any API calls, you need to initialize the Generative Model."
      ]
    },
    {
      "cell_type": "code",
      "execution_count": 26,
      "metadata": {
        "id": "s-JqXcDe2hZ_"
      },
      "outputs": [],
      "source": [
        "model = genai.GenerativeModel('gemini-1.5-flash')"
      ]
    },
    {
      "cell_type": "markdown",
      "metadata": {
        "id": "nXxypzJH4MUl"
      },
      "source": [
        "## Generate text"
      ]
    },
    {
      "cell_type": "code",
      "execution_count": 27,
      "metadata": {
        "id": "j51mcrLD4Y2W",
        "colab": {
          "base_uri": "https://localhost:8080/",
          "height": 72
        },
        "outputId": "0e6923ef-9407-4650-ac21-2a19dcda6b9c"
      },
      "outputs": [
        {
          "output_type": "stream",
          "name": "stdout",
          "text": [
            "I do not have access to real-time information, including current weather.  To get today's temperature, please check a local weather website or app for your location.\n",
            "\n"
          ]
        }
      ],
      "source": [
        "response = model.generate_content(\"tell me today temprature\")\n",
        "print(response.text)"
      ]
    },
    {
      "cell_type": "markdown",
      "metadata": {
        "id": "zUUAQS9u4biH"
      },
      "source": [
        "## What's next\n",
        "\n",
        "To learn more about working with the Gemini API, see the [Python tutorial](https://ai.google.dev/tutorials/python_quickstart).\n",
        "\n",
        "If you're new to generative AI models, you might want to look at the\n",
        "[concepts guide](https://ai.google.dev/docs/concepts) and the\n",
        "[Gemini API overview](https://ai.google.dev/docs/gemini_api_overview)."
      ]
    },
    {
      "cell_type": "code",
      "source": [
        "import google.generativeai as genai\n",
        "\n",
        "model = genai.GenerativeModel(\"gemini-1.5-flash\")\n",
        "chat = model.start_chat(\n",
        "    history=[\n",
        "        {\"role\": \"user\", \"parts\": \"Hello\"},\n",
        "        {\"role\": \"model\", \"parts\": \"Great to meet you. What would you like to know?\"},\n",
        "    ]\n",
        ")\n",
        "response = chat.send_message(\"rtyu\")\n",
        "print(response.text)\n",
        "response = chat.send_message(\"testing something\")\n",
        "print(response.text)\n"
      ],
      "metadata": {
        "colab": {
          "base_uri": "https://localhost:8080/",
          "height": 106
        },
        "id": "20KmFiJDt4Ud",
        "outputId": "fb99345f-9c87-4f8f-8f7d-8e05c9321ecf"
      },
      "execution_count": 35,
      "outputs": [
        {
          "output_type": "stream",
          "name": "stdout",
          "text": [
            "\"rtyu\" appears to be a random sequence of keys pressed on a keyboard.  Is there anything specific you'd like to do with that sequence, or was it just a test?\n",
            "\n",
            "Okay, I understand.  Is there anything else I can help you test?  Perhaps you have a specific question or task in mind?\n",
            "\n"
          ]
        }
      ]
    },
    {
      "cell_type": "markdown",
      "source": [
        "# New Section"
      ],
      "metadata": {
        "id": "sfgMudJAuuj7"
      }
    },
    {
      "cell_type": "code",
      "source": [
        "genai.configure(api_key=GOOGLE_API_KEY)\n",
        "model = genai.GenerativeModel(\"gemini-1.5-flash\")\n",
        "response = model.generate_content(\"Explain how AI works\")\n",
        "print(response.text)"
      ],
      "metadata": {
        "colab": {
          "base_uri": "https://localhost:8080/",
          "height": 488
        },
        "id": "FWjmnorCrM-y",
        "outputId": "a5456613-ead2-446b-b482-0ff49958b53c"
      },
      "execution_count": 29,
      "outputs": [
        {
          "output_type": "stream",
          "name": "stdout",
          "text": [
            "AI works by combining large amounts of data with fast, iterative processing and intelligent algorithms, allowing the software to learn automatically from patterns or features in the data.  There's no single \"how it works\" because AI encompasses many different techniques, but we can break it down into key components:\n",
            "\n",
            "**1. Data:**  AI systems require vast quantities of data to learn from. This data can be structured (like data in a spreadsheet) or unstructured (like text, images, or audio).  The quality and quantity of this data significantly impact the AI's performance.\n",
            "\n",
            "**2. Algorithms:** These are sets of rules and statistical techniques that allow the AI to learn from the data.  Different algorithms are suited for different tasks.  Common types include:\n",
            "\n",
            "* **Machine Learning (ML):**  This is a subset of AI where systems learn from data without being explicitly programmed.  Several types exist:\n",
            "    * **Supervised Learning:** The algorithm learns from labeled data (data where the desired output is already known).  Examples include image classification (identifying cats vs. dogs) and spam detection.\n",
            "    * **Unsupervised Learning:** The algorithm learns from unlabeled data, identifying patterns and structures on its own.  Examples include clustering similar customers based on purchasing behavior and anomaly detection.\n",
            "    * **Reinforcement Learning:** The algorithm learns through trial and error, receiving rewards or penalties based on its actions.  Examples include game playing (AlphaGo) and robotics.\n",
            "\n",
            "* **Deep Learning (DL):** A subset of ML that uses artificial neural networks with multiple layers (hence \"deep\") to analyze data.  Deep learning excels at complex tasks like image recognition, natural language processing, and speech recognition.\n",
            "\n",
            "* **Natural Language Processing (NLP):**  This focuses on enabling computers to understand, interpret, and generate human language.  Applications include chatbots, machine translation, and sentiment analysis.\n",
            "\n",
            "* **Computer Vision:** This allows computers to \"see\" and interpret images and videos. Applications include object detection, facial recognition, and medical image analysis.\n",
            "\n",
            "**3. Processing Power:**  Training AI models, especially deep learning models, requires significant computing power.  This is often achieved using GPUs (graphics processing units) or specialized AI hardware.\n",
            "\n",
            "**4. Iterative Process:** AI development is an iterative process.  Models are trained, tested, and refined repeatedly to improve their accuracy and performance. This involves adjusting parameters within the algorithms and potentially gathering more data.\n",
            "\n",
            "**In Simple Terms:** Imagine teaching a dog a trick.  You show it the trick (data), reward it when it does it right (reinforcement learning), and correct it when it's wrong (supervised learning). Over time, the dog learns to perform the trick consistently.  AI works similarly, but instead of a dog, it's a computer program, and instead of tricks, it's complex tasks.\n",
            "\n",
            "\n",
            "It's important to note that AI is not sentient or conscious. It doesn't \"think\" like humans do; it simply identifies patterns and makes predictions based on the data it's trained on.  The effectiveness of AI is heavily dependent on the quality of the data, the choice of algorithms, and the computational resources available.\n",
            "\n"
          ]
        }
      ]
    }
  ],
  "metadata": {
    "colab": {
      "name": "quickstart_colab.ipynb",
      "provenance": []
    },
    "kernelspec": {
      "display_name": "Python 3",
      "name": "python3"
    }
  },
  "nbformat": 4,
  "nbformat_minor": 0
}